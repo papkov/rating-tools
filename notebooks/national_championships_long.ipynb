{
 "cells": [
  {
   "cell_type": "code",
   "execution_count": 2,
   "metadata": {
    "collapsed": true
   },
   "outputs": [],
   "source": [
    "import sys"
   ]
  },
  {
   "cell_type": "code",
   "execution_count": 6,
   "metadata": {},
   "outputs": [
    {
     "data": {
      "text/plain": [
       "'C:\\\\Anaconda3\\\\envs\\\\pommenv\\\\python.exe'"
      ]
     },
     "execution_count": 6,
     "metadata": {},
     "output_type": "execute_result"
    }
   ],
   "source": [
    "sys.executable"
   ]
  },
  {
   "cell_type": "code",
   "execution_count": 7,
   "metadata": {
    "collapsed": true
   },
   "outputs": [],
   "source": [
    "import requests\n",
    "import pandas as pd\n",
    "import numpy as np\n",
    "from io import StringIO\n",
    "\n",
    "import json\n",
    "from tqdm import tqdm_notebook as tqdm\n",
    "from datetime import datetime"
   ]
  },
  {
   "cell_type": "code",
   "execution_count": 8,
   "metadata": {
    "collapsed": true
   },
   "outputs": [],
   "source": [
    "from IPython.core.display import display, HTML\n"
   ]
  },
  {
   "cell_type": "code",
   "execution_count": 9,
   "metadata": {
    "collapsed": true
   },
   "outputs": [],
   "source": [
    "url_search = 'https://rating.chgk.info/api/tournaments.json/search?name={}'\n",
    "url_tournament = 'https://rating.chgk.info/api/tournaments/{}/list'\n",
    "url_tournament_info = 'https://rating.chgk.info/api/tournaments/{}/'\n",
    "url_recaps = 'https://rating.chgk.info/api/tournaments/{idtournament}/recaps/{idteam}'\n",
    "url_player = 'https://rating.chgk.info/api/players/{}'\n",
    "url_team = 'https://rating.chgk.info/api/teams/{}'"
   ]
  },
  {
   "cell_type": "markdown",
   "metadata": {},
   "source": [
    "Израиль Германия Россия Беларусь США Великобритания Молдова Латвия Литва Эстония Узбекистан Казахстан Таджикистан"
   ]
  },
  {
   "cell_type": "code",
   "execution_count": 10,
   "metadata": {
    "collapsed": true
   },
   "outputs": [],
   "source": [
    "countries = ['Израиль','Германия','Россия','Беларусь','США','Великобритания','Молдова','Латвия','Литва','Эстония','Узбекистан','Казахстан','Таджикистан']"
   ]
  },
  {
   "cell_type": "code",
   "execution_count": 11,
   "metadata": {
    "collapsed": true
   },
   "outputs": [],
   "source": [
    "def get_json(url):\n",
    "    response = requests.get(url).text\n",
    "    response = json.load(StringIO(response))\n",
    "    return response"
   ]
  },
  {
   "cell_type": "code",
   "execution_count": 12,
   "metadata": {
    "collapsed": true
   },
   "outputs": [],
   "source": [
    "def get_tournament_list(query):\n",
    "    response = requests.get(url_search.format(query)).text\n",
    "    response = json.load(StringIO(response))\n",
    "    return pd.DataFrame(response['items'])"
   ]
  },
  {
   "cell_type": "code",
   "execution_count": 56,
   "metadata": {},
   "outputs": [],
   "source": [
    "def get_national_championships(countries):\n",
    "    ts = []\n",
    "    for country in countries:\n",
    "        query = 'чемпионат '+ country[:-1]\n",
    "        t = get_tournament_list(query)\n",
    "        t = t[t.name.apply(lambda x: x.split()[-1][1:-1] in (country[1:-1], country[1:]))]\n",
    "        t = pd.DataFrame({'idtournament': t.idtournament, 'year': t.date_end.apply(lambda x: x[:4]), 'country': country})\n",
    "        ts.append(t)\n",
    "    return pd.concat(ts).reset_index()"
   ]
  },
  {
   "cell_type": "code",
   "execution_count": 60,
   "metadata": {},
   "outputs": [],
   "source": [
    "championchips = get_national_championships([\"Казахстан\"])"
   ]
  },
  {
   "cell_type": "code",
   "execution_count": 61,
   "metadata": {},
   "outputs": [
    {
     "data": {
      "text/html": [
       "<div>\n",
       "<style scoped>\n",
       "    .dataframe tbody tr th:only-of-type {\n",
       "        vertical-align: middle;\n",
       "    }\n",
       "\n",
       "    .dataframe tbody tr th {\n",
       "        vertical-align: top;\n",
       "    }\n",
       "\n",
       "    .dataframe thead th {\n",
       "        text-align: right;\n",
       "    }\n",
       "</style>\n",
       "<table border=\"1\" class=\"dataframe\">\n",
       "  <thead>\n",
       "    <tr style=\"text-align: right;\">\n",
       "      <th></th>\n",
       "      <th>index</th>\n",
       "      <th>country</th>\n",
       "      <th>idtournament</th>\n",
       "      <th>year</th>\n",
       "    </tr>\n",
       "  </thead>\n",
       "  <tbody>\n",
       "    <tr>\n",
       "      <th>0</th>\n",
       "      <td>0</td>\n",
       "      <td>Казахстан</td>\n",
       "      <td>1874</td>\n",
       "      <td>2011</td>\n",
       "    </tr>\n",
       "    <tr>\n",
       "      <th>1</th>\n",
       "      <td>1</td>\n",
       "      <td>Казахстан</td>\n",
       "      <td>2015</td>\n",
       "      <td>2012</td>\n",
       "    </tr>\n",
       "    <tr>\n",
       "      <th>2</th>\n",
       "      <td>2</td>\n",
       "      <td>Казахстан</td>\n",
       "      <td>2414</td>\n",
       "      <td>2013</td>\n",
       "    </tr>\n",
       "    <tr>\n",
       "      <th>3</th>\n",
       "      <td>3</td>\n",
       "      <td>Казахстан</td>\n",
       "      <td>2848</td>\n",
       "      <td>2014</td>\n",
       "    </tr>\n",
       "    <tr>\n",
       "      <th>4</th>\n",
       "      <td>4</td>\n",
       "      <td>Казахстан</td>\n",
       "      <td>3291</td>\n",
       "      <td>2015</td>\n",
       "    </tr>\n",
       "    <tr>\n",
       "      <th>5</th>\n",
       "      <td>5</td>\n",
       "      <td>Казахстан</td>\n",
       "      <td>3790</td>\n",
       "      <td>2016</td>\n",
       "    </tr>\n",
       "    <tr>\n",
       "      <th>6</th>\n",
       "      <td>6</td>\n",
       "      <td>Казахстан</td>\n",
       "      <td>4235</td>\n",
       "      <td>2017</td>\n",
       "    </tr>\n",
       "    <tr>\n",
       "      <th>7</th>\n",
       "      <td>7</td>\n",
       "      <td>Казахстан</td>\n",
       "      <td>5049</td>\n",
       "      <td>2018</td>\n",
       "    </tr>\n",
       "    <tr>\n",
       "      <th>8</th>\n",
       "      <td>8</td>\n",
       "      <td>Казахстан</td>\n",
       "      <td>5487</td>\n",
       "      <td>2019</td>\n",
       "    </tr>\n",
       "  </tbody>\n",
       "</table>\n",
       "</div>"
      ],
      "text/plain": [
       "   index    country idtournament  year\n",
       "0      0  Казахстан         1874  2011\n",
       "1      1  Казахстан         2015  2012\n",
       "2      2  Казахстан         2414  2013\n",
       "3      3  Казахстан         2848  2014\n",
       "4      4  Казахстан         3291  2015\n",
       "5      5  Казахстан         3790  2016\n",
       "6      6  Казахстан         4235  2017\n",
       "7      7  Казахстан         5049  2018\n",
       "8      8  Казахстан         5487  2019"
      ]
     },
     "execution_count": 61,
     "metadata": {},
     "output_type": "execute_result"
    }
   ],
   "source": [
    "championchips"
   ]
  },
  {
   "cell_type": "code",
   "execution_count": 19,
   "metadata": {},
   "outputs": [
    {
     "data": {
      "text/plain": [
       "[{'archive': None,\n",
       "  'comment': None,\n",
       "  'date_archived_at': None,\n",
       "  'date_end': '1998-04-18 00:00:00',\n",
       "  'date_requests_allowed_to': None,\n",
       "  'date_start': '1998-04-18 00:00:00',\n",
       "  'db_tags': ['http://db.chgk.info/tour/israel98'],\n",
       "  'discounted_payment_currency': '',\n",
       "  'discounted_payment_reason': None,\n",
       "  'discounted_payment_value': None,\n",
       "  'idtournament': '716',\n",
       "  'long_name': '',\n",
       "  'main_payment_currency': '',\n",
       "  'main_payment_value': None,\n",
       "  'name': 'Чемпионат Израиля',\n",
       "  'questions_total': None,\n",
       "  'site_url': '',\n",
       "  'tour_count': None,\n",
       "  'tour_ques_per_tour': None,\n",
       "  'tour_questions': None,\n",
       "  'tournament_in_rating': '0',\n",
       "  'town': 'Тель-Авив',\n",
       "  'type_name': 'Обычный'}]"
      ]
     },
     "execution_count": 19,
     "metadata": {},
     "output_type": "execute_result"
    }
   ],
   "source": [
    "get_json(url_tournament_info.format(716))"
   ]
  },
  {
   "cell_type": "code",
   "execution_count": 20,
   "metadata": {
    "collapsed": true
   },
   "outputs": [],
   "source": [
    "def format_tournament_dates(iso_date_start, iso_date_end, fmt=\"%Y-%m-%d %H:%M:%S\"):\n",
    "    ds = datetime.strptime(iso_date_start, fmt)\n",
    "    de = datetime.strptime(iso_date_end, fmt)\n",
    "    # TODO date parser to human-readable dates\n",
    "    date = de.strftime(\"%d.%m.%Y\")\n",
    "    if ds.day != de.day:\n",
    "        date = '{}-{}'.format(ds.strftime(\"%d\"), date)\n",
    "    return date"
   ]
  },
  {
   "cell_type": "code",
   "execution_count": 21,
   "metadata": {},
   "outputs": [
    {
     "data": {
      "text/plain": [
       "'01-02.06.2019'"
      ]
     },
     "execution_count": 21,
     "metadata": {},
     "output_type": "execute_result"
    }
   ],
   "source": [
    "format_tournament_dates('2019-06-01 16:00:00', '2019-06-02 22:00:00')"
   ]
  },
  {
   "cell_type": "code",
   "execution_count": 22,
   "metadata": {},
   "outputs": [
    {
     "data": {
      "text/plain": [
       "[{'base_name': 'Десятый вал',\n",
       "  'bonus_a': '0',\n",
       "  'bonus_b': '773',\n",
       "  'current_name': 'Десятый вал',\n",
       "  'diff_bonus': '-35',\n",
       "  'idteam': '194',\n",
       "  'included_in_rating': 1,\n",
       "  'mask': '101110101000111001101010100010110000111010001101100010000111',\n",
       "  'position': '11.5',\n",
       "  'predicted_position': '10',\n",
       "  'questions_total': '29',\n",
       "  'rating_r': '2813',\n",
       "  'tech_rating_rb': '2355',\n",
       "  'tech_rating_rg': '3710',\n",
       "  'tech_rating_rt': '3710'},\n",
       " {'base_name': 'Вист!',\n",
       "  'bonus_a': '1598',\n",
       "  'bonus_b': '638',\n",
       "  'current_name': 'Вист!',\n",
       "  'diff_bonus': '-43',\n",
       "  'idteam': '208',\n",
       "  'included_in_rating': 1,\n",
       "  'mask': '101100100010111100111011100101110000000010001101001000000000',\n",
       "  'position': '16.5',\n",
       "  'predicted_position': '13',\n",
       "  'questions_total': '24',\n",
       "  'rating_r': '3591',\n",
       "  'tech_rating_rb': '4206',\n",
       "  'tech_rating_rg': '3058',\n",
       "  'tech_rating_rt': '3582'},\n",
       " {'base_name': 'Хохма',\n",
       "  'bonus_a': '2150',\n",
       "  'bonus_b': '773',\n",
       "  'current_name': 'Хохма',\n",
       "  'diff_bonus': '33',\n",
       "  'idteam': '261',\n",
       "  'included_in_rating': 1,\n",
       "  'mask': '100100010110000101101011100001111100001010010111111000010011',\n",
       "  'position': '11.5',\n",
       "  'predicted_position': '12',\n",
       "  'questions_total': '29',\n",
       "  'rating_r': '3080',\n",
       "  'tech_rating_rb': '3798',\n",
       "  'tech_rating_rg': '3147',\n",
       "  'tech_rating_rt': '3881'},\n",
       " {'base_name': 'Чеширский конь',\n",
       "  'bonus_a': '1598',\n",
       "  'bonus_b': '638',\n",
       "  'current_name': 'Чеширский конь',\n",
       "  'diff_bonus': '32',\n",
       "  'idteam': '334',\n",
       "  'included_in_rating': 1,\n",
       "  'mask': '101111010000010101100011101001101100000010001110001001000000',\n",
       "  'position': '16.5',\n",
       "  'predicted_position': '17',\n",
       "  'questions_total': '24',\n",
       "  'rating_r': '3047',\n",
       "  'tech_rating_rb': '2313',\n",
       "  'tech_rating_rg': '2996',\n",
       "  'tech_rating_rt': '2274'},\n",
       " {'base_name': 'Крутая извилина',\n",
       "  'bonus_a': '2270',\n",
       "  'bonus_b': '1041',\n",
       "  'current_name': 'Крутая извилина',\n",
       "  'diff_bonus': '381',\n",
       "  'idteam': '580',\n",
       "  'included_in_rating': 1,\n",
       "  'mask': '101111100001101101011011110111010010001010001110001010100100',\n",
       "  'position': '7.5',\n",
       "  'predicted_position': '16',\n",
       "  'questions_total': '31',\n",
       "  'rating_r': '2371',\n",
       "  'tech_rating_rb': '3626',\n",
       "  'tech_rating_rg': '3023',\n",
       "  'tech_rating_rt': '4623'},\n",
       " {'base_name': 'Братья',\n",
       "  'bonus_a': '2297',\n",
       "  'bonus_b': '1687',\n",
       "  'current_name': 'Братья',\n",
       "  'diff_bonus': '52',\n",
       "  'idteam': '641',\n",
       "  'included_in_rating': 1,\n",
       "  'mask': '101110111011111111111111111111110100101010111110101010011001',\n",
       "  'position': '1',\n",
       "  'predicted_position': '1',\n",
       "  'questions_total': '44',\n",
       "  'rating_r': '7780',\n",
       "  'tech_rating_rb': '7613',\n",
       "  'tech_rating_rg': '7780',\n",
       "  'tech_rating_rt': '7613'},\n",
       " {'base_name': 'Кипарис',\n",
       "  'bonus_a': '2289',\n",
       "  'bonus_b': '1280',\n",
       "  'current_name': 'Кипарис',\n",
       "  'diff_bonus': '85',\n",
       "  'idteam': '642',\n",
       "  'included_in_rating': 1,\n",
       "  'mask': '101111110000010110010111111111111100011110001111011010000101',\n",
       "  'position': '4.5',\n",
       "  'predicted_position': '5',\n",
       "  'questions_total': '37',\n",
       "  'rating_r': '4333',\n",
       "  'tech_rating_rb': '4492',\n",
       "  'tech_rating_rg': '5357',\n",
       "  'tech_rating_rt': '5554'},\n",
       " {'base_name': 'Ла Гвардия',\n",
       "  'bonus_a': '2281',\n",
       "  'bonus_b': '1132',\n",
       "  'current_name': 'Ла Гвардия',\n",
       "  'diff_bonus': '137',\n",
       "  'idteam': '1014',\n",
       "  'included_in_rating': 1,\n",
       "  'mask': '001111000011110111100110101110111100101010001111101010000001',\n",
       "  'position': '6',\n",
       "  'predicted_position': '8',\n",
       "  'questions_total': '33',\n",
       "  'rating_r': '4423',\n",
       "  'tech_rating_rb': '4658',\n",
       "  'tech_rating_rg': '4505',\n",
       "  'tech_rating_rt': '4744'},\n",
       " {'base_name': 'Дело в шляпе',\n",
       "  'bonus_a': '0',\n",
       "  'bonus_b': '221',\n",
       "  'current_name': 'Дело в шляпе',\n",
       "  'diff_bonus': '-30',\n",
       "  'idteam': '1385',\n",
       "  'included_in_rating': 1,\n",
       "  'mask': '111110000010000100000010001000000100001010000101101000000000',\n",
       "  'position': '21',\n",
       "  'predicted_position': '20.5',\n",
       "  'questions_total': '16',\n",
       "  'rating_r': '1787',\n",
       "  'tech_rating_rb': '1932',\n",
       "  'tech_rating_rg': '1411',\n",
       "  'tech_rating_rt': '1525'},\n",
       " {'base_name': 'Инфи. Ёжики',\n",
       "  'bonus_a': '2289',\n",
       "  'bonus_b': '1280',\n",
       "  'current_name': 'Инфи. Ёжики',\n",
       "  'diff_bonus': '-54',\n",
       "  'idteam': '1642',\n",
       "  'included_in_rating': 1,\n",
       "  'mask': '101110000011011111101011111101111100101011011111111000000100',\n",
       "  'position': '4.5',\n",
       "  'predicted_position': '3',\n",
       "  'questions_total': '37',\n",
       "  'rating_r': '6183',\n",
       "  'tech_rating_rb': '6300',\n",
       "  'tech_rating_rg': '6183',\n",
       "  'tech_rating_rt': '6300'},\n",
       " {'base_name': 'Дилетанты',\n",
       "  'bonus_a': '1857',\n",
       "  'bonus_b': '701',\n",
       "  'current_name': 'Дилетанты',\n",
       "  'diff_bonus': '-185',\n",
       "  'idteam': '1952',\n",
       "  'included_in_rating': 1,\n",
       "  'mask': '101100100010001101000111101010110100011010000110001000010001',\n",
       "  'position': '15',\n",
       "  'predicted_position': '7',\n",
       "  'questions_total': '25',\n",
       "  'rating_r': '4863',\n",
       "  'tech_rating_rb': '5277',\n",
       "  'tech_rating_rg': '4758',\n",
       "  'tech_rating_rt': '5163'},\n",
       " {'base_name': 'Иерусалимские хроники',\n",
       "  'bonus_a': '0',\n",
       "  'bonus_b': '718',\n",
       "  'current_name': 'Иерусалимские хроники',\n",
       "  'diff_bonus': '2',\n",
       "  'idteam': '3933',\n",
       "  'included_in_rating': 1,\n",
       "  'mask': '101100110001100111001111100001100100000010001111001001000001',\n",
       "  'position': '14',\n",
       "  'predicted_position': '14.5',\n",
       "  'questions_total': '26',\n",
       "  'rating_r': '3047',\n",
       "  'tech_rating_rb': '2476',\n",
       "  'tech_rating_rg': '3047',\n",
       "  'tech_rating_rt': '2956'},\n",
       " {'base_name': 'Эволюция',\n",
       "  'bonus_a': '2295',\n",
       "  'bonus_b': '1459',\n",
       "  'current_name': 'Эволюция',\n",
       "  'diff_bonus': '138',\n",
       "  'idteam': '4075',\n",
       "  'included_in_rating': 1,\n",
       "  'mask': '011110101010111111101111111011110101101010111110001011010011',\n",
       "  'position': '2.5',\n",
       "  'predicted_position': '4',\n",
       "  'questions_total': '41',\n",
       "  'rating_r': '6159',\n",
       "  'tech_rating_rb': '6009',\n",
       "  'tech_rating_rg': '6159',\n",
       "  'tech_rating_rt': '6009'},\n",
       " {'base_name': 'Птица-говорун',\n",
       "  'bonus_a': '2270',\n",
       "  'bonus_b': '1041',\n",
       "  'current_name': 'Птица-говорун',\n",
       "  'diff_bonus': '-38',\n",
       "  'idteam': '4869',\n",
       "  'included_in_rating': 1,\n",
       "  'mask': '011100100111011101001011110010110000111010101110001001100001',\n",
       "  'position': '7.5',\n",
       "  'predicted_position': '6',\n",
       "  'questions_total': '31',\n",
       "  'rating_r': '5137',\n",
       "  'tech_rating_rb': '5225',\n",
       "  'tech_rating_rg': '4933',\n",
       "  'tech_rating_rt': '5018'},\n",
       " {'base_name': 'Тангородрим',\n",
       "  'bonus_a': '962',\n",
       "  'bonus_b': '421',\n",
       "  'current_name': 'Тангородрим',\n",
       "  'diff_bonus': '74',\n",
       "  'idteam': '5898',\n",
       "  'included_in_rating': 1,\n",
       "  'mask': '101010101000000011001011101001000001001010001100001011000001',\n",
       "  'position': '18.5',\n",
       "  'predicted_position': '19',\n",
       "  'questions_total': '22',\n",
       "  'rating_r': '2222',\n",
       "  'tech_rating_rb': '2739',\n",
       "  'tech_rating_rg': '1725',\n",
       "  'tech_rating_rt': '2126'},\n",
       " {'base_name': 'Это мы, опилки!',\n",
       "  'bonus_a': '2236',\n",
       "  'bonus_b': '887',\n",
       "  'current_name': 'Это мы, опилки!',\n",
       "  'diff_bonus': '611',\n",
       "  'idteam': '7592',\n",
       "  'included_in_rating': 1,\n",
       "  'mask': '101110000101011100001011111011010000001110011110111010000001',\n",
       "  'position': '9.5',\n",
       "  'predicted_position': '20.5',\n",
       "  'questions_total': '30',\n",
       "  'rating_r': '1952',\n",
       "  'tech_rating_rb': '2388',\n",
       "  'tech_rating_rg': '1411',\n",
       "  'tech_rating_rt': '1726'},\n",
       " {'base_name': 'Деза',\n",
       "  'bonus_a': '2024',\n",
       "  'bonus_b': '727',\n",
       "  'current_name': 'Деза',\n",
       "  'diff_bonus': '-96',\n",
       "  'idteam': '41832',\n",
       "  'included_in_rating': 1,\n",
       "  'mask': '101110000011011100101111101011001100000010001100101100001000',\n",
       "  'position': '13',\n",
       "  'predicted_position': '9',\n",
       "  'questions_total': '27',\n",
       "  'rating_r': '4052',\n",
       "  'tech_rating_rb': '4487',\n",
       "  'tech_rating_rg': '4155',\n",
       "  'tech_rating_rt': '4601'},\n",
       " {'base_name': 'Команда Дмитрия Слоуща',\n",
       "  'bonus_a': '2236',\n",
       "  'bonus_b': '887',\n",
       "  'current_name': 'Команда Дмитрия Слоуща',\n",
       "  'diff_bonus': '89',\n",
       "  'idteam': '46099',\n",
       "  'included_in_rating': 1,\n",
       "  'mask': '101100000011000100001011111110111101011010000111011011000001',\n",
       "  'position': '9.5',\n",
       "  'predicted_position': '11',\n",
       "  'questions_total': '30',\n",
       "  'rating_r': '4246',\n",
       "  'tech_rating_rb': '4474',\n",
       "  'tech_rating_rg': '3579',\n",
       "  'tech_rating_rt': '3771'},\n",
       " {'base_name': 'Fight Club',\n",
       "  'bonus_a': '2295',\n",
       "  'bonus_b': '1459',\n",
       "  'current_name': 'Fight Club',\n",
       "  'diff_bonus': '7',\n",
       "  'idteam': '50386',\n",
       "  'included_in_rating': 1,\n",
       "  'mask': '111110100101110111101111101101111100001011111111111000001101',\n",
       "  'position': '2.5',\n",
       "  'predicted_position': '2',\n",
       "  'questions_total': '41',\n",
       "  'rating_r': '6550',\n",
       "  'tech_rating_rb': '6529',\n",
       "  'tech_rating_rg': '6550',\n",
       "  'tech_rating_rt': '6529'},\n",
       " {'base_name': 'Плюс 1',\n",
       "  'bonus_a': '962',\n",
       "  'bonus_b': '421',\n",
       "  'current_name': 'Плюс 1',\n",
       "  'diff_bonus': '-36',\n",
       "  'idteam': '54557',\n",
       "  'included_in_rating': 1,\n",
       "  'mask': '101110100001011001000011000101001000011000000101010011010000',\n",
       "  'position': '18.5',\n",
       "  'predicted_position': '18',\n",
       "  'questions_total': '22',\n",
       "  'rating_r': '2559',\n",
       "  'tech_rating_rb': '2474',\n",
       "  'tech_rating_rg': '2655',\n",
       "  'tech_rating_rt': '2655'},\n",
       " {'base_name': 'Алдан 3',\n",
       "  'bonus_a': '0',\n",
       "  'bonus_b': '281',\n",
       "  'current_name': 'Алдан 3',\n",
       "  'diff_bonus': '-219',\n",
       "  'idteam': '68074',\n",
       "  'included_in_rating': 1,\n",
       "  'mask': '111100000010100100100110000000100100000010000100101011000001',\n",
       "  'position': '20',\n",
       "  'predicted_position': '14.5',\n",
       "  'questions_total': '19',\n",
       "  'rating_r': '3405',\n",
       "  'tech_rating_rb': '4199',\n",
       "  'tech_rating_rg': '3047',\n",
       "  'tech_rating_rt': '3758'},\n",
       " {'base_name': 'Цирк уехал',\n",
       "  'bonus_a': '0',\n",
       "  'bonus_b': '103',\n",
       "  'current_name': 'Цирк уехал',\n",
       "  'diff_bonus': '0',\n",
       "  'idteam': '70577',\n",
       "  'included_in_rating': 1,\n",
       "  'mask': '001000000000000001000111101000010000000010001000101000001001',\n",
       "  'position': '22',\n",
       "  'predicted_position': '22',\n",
       "  'questions_total': '14',\n",
       "  'rating_r': '163',\n",
       "  'tech_rating_rb': '201',\n",
       "  'tech_rating_rg': '852',\n",
       "  'tech_rating_rt': '1051'}]"
      ]
     },
     "execution_count": 22,
     "metadata": {},
     "output_type": "execute_result"
    }
   ],
   "source": [
    "get_json(url_tournament.format(5674))"
   ]
  },
  {
   "cell_type": "code",
   "execution_count": 23,
   "metadata": {
    "collapsed": true
   },
   "outputs": [],
   "source": [
    "def get_name(idplayer, format='ns'):\n",
    "    fdict = dict(n='name', s='surname', p='patronymic')\n",
    "    response = json.load(StringIO(requests.get(url_player.format(idplayer)).text))[0]\n",
    "    return ' '.join([response[fdict[f]] for f in format])\n",
    "\n",
    "def get_names(players):\n",
    "    return [get_name(i) for i in tqdm(players)]"
   ]
  },
  {
   "cell_type": "code",
   "execution_count": 29,
   "metadata": {
    "collapsed": true
   },
   "outputs": [],
   "source": [
    "def get_winner_recaps(idtournament):\n",
    "    \"\"\"\n",
    "    Returns:\n",
    "    {team: (idteam, current_name, town),\n",
    "     recaps: [(idplayer, surname name patronymic), ...]}\n",
    "    \"\"\"\n",
    "    # Get tournament results\n",
    "    teams = get_json(url_tournament.format(idtournament))\n",
    "    # Get winner info\n",
    "    winner = [t for t in teams if float(t['position']) < 2]\n",
    "    if len(winner) > 1:\n",
    "        print('More than one winner in tournament', idtournament)\n",
    "    try:\n",
    "        winner = winner[0]\n",
    "    except IndexError:\n",
    "        # Tournament did not happen yet, no winners\n",
    "        return {'team': None, 'recaps': None}\n",
    "    idteam, winner = winner['idteam'], winner['current_name']\n",
    "    town = get_json(url_team.format(idteam))[0]['town']\n",
    "    # Get winner recaps\n",
    "    winner_recaps = get_json(url_recaps.format(idtournament=idtournament, idteam=idteam))\n",
    "    # Format recaps (idplayer, surname name patronymic (K?))\n",
    "    winner_recaps = [(p['idplayer'], get_name(p['idplayer']) + (' (K)' if p['is_captain'] == '1' else '')) for p in winner_recaps]\n",
    "    \n",
    "    return {'team': (idteam, winner, town), 'recaps': winner_recaps}"
   ]
  },
  {
   "cell_type": "code",
   "execution_count": 28,
   "metadata": {},
   "outputs": [
    {
     "data": {
      "text/plain": [
       "[]"
      ]
     },
     "execution_count": 28,
     "metadata": {},
     "output_type": "execute_result"
    }
   ],
   "source": [
    "get_json(url_tournament.format(6114))"
   ]
  },
  {
   "cell_type": "code",
   "execution_count": 30,
   "metadata": {},
   "outputs": [
    {
     "data": {
      "text/plain": [
       "{'recaps': None, 'team': None}"
      ]
     },
     "execution_count": 30,
     "metadata": {},
     "output_type": "execute_result"
    }
   ],
   "source": [
    "get_winner_recaps(6114)"
   ]
  },
  {
   "cell_type": "code",
   "execution_count": 33,
   "metadata": {
    "collapsed": true
   },
   "outputs": [],
   "source": [
    "def format_player(player_tuple):\n",
    "    return '<a href=\"https://rating.chgk.info/player/{}\">{}</a>'.format(*player_tuple)\n",
    "    \n",
    "def format_team_recaps(team_recaps):\n",
    "    if team_recaps['team'] is None:\n",
    "        return None\n",
    "    head = '<p>Победитель <a href=\"https://rating.chgk.info/team/{}\"><strong>{} ({})</strong> </a></p>'.format(*team_recaps['team'])\n",
    "    ul = '\\n'.join(['<li>'+format_player(pt) for pt in team_recaps['recaps']])\n",
    "    ul = '<ul>{}</ul>'.format(ul)\n",
    "    return '{}\\n{}'.format(head, ul)"
   ]
  },
  {
   "cell_type": "code",
   "execution_count": 34,
   "metadata": {},
   "outputs": [
    {
     "data": {
      "text/plain": [
       "<IPython.core.display.HTML object>"
      ]
     },
     "metadata": {},
     "output_type": "display_data"
    }
   ],
   "source": [
    "display(HTML(format_team_recaps(get_winner_recaps(6114))))"
   ]
  },
  {
   "cell_type": "code",
   "execution_count": 35,
   "metadata": {
    "collapsed": true
   },
   "outputs": [],
   "source": [
    "def get_tournament_header(idtournament):\n",
    "    tourn = get_json(url_tournament_info.format(idtournament))[0]\n",
    "    date = format_tournament_dates(tourn['date_start'], tourn['date_end'])\n",
    "    return tourn['idtournament'], tourn['long_name'], date, tourn['town']\n",
    "\n",
    "def format_tournament_header(tournament_tuple):\n",
    "    return '<p><a href=\"https://rating.chgk.info/tournament/{}\"><strong>{}</strong></a>: {}, {}</p>'.format(*tournament_tuple)"
   ]
  },
  {
   "cell_type": "code",
   "execution_count": 38,
   "metadata": {
    "collapsed": true
   },
   "outputs": [],
   "source": [
    "def format_tournament(idtournament):\n",
    "    head = format_tournament_header(get_tournament_header(idtournament))\n",
    "    body = format_team_recaps(get_winner_recaps(idtournament))\n",
    "    return '{}\\n{}'.format(head, body if body is not None else '')\n",
    "\n",
    "def format_tournaments(idtournament_list):\n",
    "    tl = [format_tournament(idtournament) for idtournament in tqdm(idtournament_list)]\n",
    "    return '\\n'.join(tl)"
   ]
  },
  {
   "cell_type": "code",
   "execution_count": 39,
   "metadata": {},
   "outputs": [
    {
     "data": {
      "text/plain": [
       "'<p><a href=\"https://rating.chgk.info/tournament/6114\"><strong>XIII открытый чемпионат Великобритании по игре \"Что? Где? Когда?\"</strong></a>: 24.05.2020, Лондон</p>\\n'"
      ]
     },
     "execution_count": 39,
     "metadata": {},
     "output_type": "execute_result"
    }
   ],
   "source": [
    "format_tournament(6114)"
   ]
  },
  {
   "cell_type": "code",
   "execution_count": 115,
   "metadata": {},
   "outputs": [
    {
     "data": {
      "application/vnd.jupyter.widget-view+json": {
       "model_id": "8d9966e34bb64699b3cd5e6fcff2f940",
       "version_major": 2,
       "version_minor": 0
      },
      "text/plain": [
       "HBox(children=(IntProgress(value=0, max=5), HTML(value='')))"
      ]
     },
     "metadata": {},
     "output_type": "display_data"
    },
    {
     "data": {
      "text/html": [
       "<p><a href=\"https://rating.chgk.info/tournament/716\"><strong></strong></a>: 18.04.1998, Тель-Авив</p>\n",
       "<p>Победитель <a href=\"https://rating.chgk.info/team/194\"><strong>Десятый вал (Хайфа)</strong> </a></p>\n",
       "<ul></ul>\n",
       "<p><a href=\"https://rating.chgk.info/tournament/1166\"><strong></strong></a>: 08.05.1999, Хайфа</p>\n",
       "<p>Победитель <a href=\"https://rating.chgk.info/team/226\"><strong>HiQ (Хайфа)</strong> </a></p>\n",
       "<ul></ul>\n",
       "<p><a href=\"https://rating.chgk.info/tournament/1056\"><strong></strong></a>: 13.05.2000, Хайфа</p>\n",
       "<p>Победитель <a href=\"https://rating.chgk.info/team/194\"><strong>Десятый вал (Хайфа)</strong> </a></p>\n",
       "<ul></ul>\n",
       "<p><a href=\"https://rating.chgk.info/tournament/1150\"><strong></strong></a>: 19.05.2001, Хайфа</p>\n",
       "<p>Победитель <a href=\"https://rating.chgk.info/team/228\"><strong>Незнайка (Хайфа)</strong> </a></p>\n",
       "<ul><li><a href=\"https://rating.chgk.info/player/1438\">Евгений Аренгауз</a>\n",
       "<li><a href=\"https://rating.chgk.info/player/4856\">Олег Вайнштейн</a>\n",
       "<li><a href=\"https://rating.chgk.info/player/6059\">Юлия Воробьева</a>\n",
       "<li><a href=\"https://rating.chgk.info/player/15152\">Игорь Колмаков</a>\n",
       "<li><a href=\"https://rating.chgk.info/player/22474\">Илья Немец</a>\n",
       "<li><a href=\"https://rating.chgk.info/player/84789\">Алексей Шестаковский</a></ul>\n",
       "<p><a href=\"https://rating.chgk.info/tournament/1270\"><strong></strong></a>: 04.05.2002, Тель-Авив</p>\n",
       "<p>Победитель <a href=\"https://rating.chgk.info/team/228\"><strong>Незнайка (Хайфа)</strong> </a></p>\n",
       "<ul><li><a href=\"https://rating.chgk.info/player/1438\">Евгений Аренгауз</a>\n",
       "<li><a href=\"https://rating.chgk.info/player/4856\">Олег Вайнштейн</a>\n",
       "<li><a href=\"https://rating.chgk.info/player/6059\">Юлия Воробьева</a>\n",
       "<li><a href=\"https://rating.chgk.info/player/22474\">Илья Немец</a>\n",
       "<li><a href=\"https://rating.chgk.info/player/36529\">Григорий Шпитальник</a>\n",
       "<li><a href=\"https://rating.chgk.info/player/84789\">Алексей Шестаковский</a></ul>"
      ],
      "text/plain": [
       "<IPython.core.display.HTML object>"
      ]
     },
     "metadata": {},
     "output_type": "display_data"
    }
   ],
   "source": [
    "display(HTML(format_tournaments(championchips.idtournament[:5])))"
   ]
  },
  {
   "cell_type": "code",
   "execution_count": null,
   "metadata": {
    "collapsed": true
   },
   "outputs": [],
   "source": []
  }
 ],
 "metadata": {
  "kernelspec": {
   "display_name": "Python 3",
   "language": "python",
   "name": "python3"
  },
  "language_info": {
   "codemirror_mode": {
    "name": "ipython",
    "version": 3
   },
   "file_extension": ".py",
   "mimetype": "text/x-python",
   "name": "python",
   "nbconvert_exporter": "python",
   "pygments_lexer": "ipython3",
   "version": "3.5.5"
  }
 },
 "nbformat": 4,
 "nbformat_minor": 2
}
