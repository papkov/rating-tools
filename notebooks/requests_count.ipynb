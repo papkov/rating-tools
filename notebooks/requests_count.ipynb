{
 "cells": [
  {
   "cell_type": "code",
   "execution_count": 5,
   "metadata": {},
   "outputs": [],
   "source": [
    "import requests\n",
    "import xml.etree.cElementTree as et\n",
    "import json\n",
    "import pandas as pd\n",
    "import numpy as np\n",
    "from tqdm import tqdm_notebook as tqdmn\n",
    "from io import StringIO"
   ]
  },
  {
   "cell_type": "code",
   "execution_count": 20,
   "metadata": {
    "collapsed": true
   },
   "outputs": [],
   "source": [
    "flags_url = 'http://rating.chgk.info/tournaments.php?tournament_id={}&download_data=tournament_export_teams_with_flags&format=csv'\n",
    "teams_on_synch_url = 'https://rating.chgk.info/synch.php?download_data=teams_synch_data&tournament_id={}'"
   ]
  },
  {
   "cell_type": "code",
   "execution_count": 7,
   "metadata": {
    "collapsed": true
   },
   "outputs": [],
   "source": [
    "tournament_id = 5965"
   ]
  },
  {
   "cell_type": "code",
   "execution_count": 46,
   "metadata": {},
   "outputs": [
    {
     "data": {
      "text/html": [
       "<div>\n",
       "<style scoped>\n",
       "    .dataframe tbody tr th:only-of-type {\n",
       "        vertical-align: middle;\n",
       "    }\n",
       "\n",
       "    .dataframe tbody tr th {\n",
       "        vertical-align: top;\n",
       "    }\n",
       "\n",
       "    .dataframe thead th {\n",
       "        text-align: right;\n",
       "    }\n",
       "</style>\n",
       "<table border=\"1\" class=\"dataframe\">\n",
       "  <thead>\n",
       "    <tr style=\"text-align: right;\">\n",
       "      <th></th>\n",
       "      <th>city</th>\n",
       "      <th>fio</th>\n",
       "      <th>flags</th>\n",
       "      <th>id</th>\n",
       "      <th>team_id</th>\n",
       "      <th>team_name</th>\n",
       "    </tr>\n",
       "  </thead>\n",
       "  <tbody>\n",
       "    <tr>\n",
       "      <th>0</th>\n",
       "      <td>Аахен</td>\n",
       "      <td>Ализаде Джамиль Заур оглы</td>\n",
       "      <td>Общий</td>\n",
       "      <td>100822</td>\n",
       "      <td>3146</td>\n",
       "      <td>Авось</td>\n",
       "    </tr>\n",
       "    <tr>\n",
       "      <th>1</th>\n",
       "      <td>Аахен</td>\n",
       "      <td>Ализаде Джамиль Заур оглы</td>\n",
       "      <td>Общий</td>\n",
       "      <td>100822</td>\n",
       "      <td>71273</td>\n",
       "      <td>Кефир</td>\n",
       "    </tr>\n",
       "    <tr>\n",
       "      <th>2</th>\n",
       "      <td>Аахен</td>\n",
       "      <td>Ализаде Джамиль Заур оглы</td>\n",
       "      <td>Общий</td>\n",
       "      <td>100822</td>\n",
       "      <td>71275</td>\n",
       "      <td>С нами Лиза</td>\n",
       "    </tr>\n",
       "    <tr>\n",
       "      <th>3</th>\n",
       "      <td>Аахен</td>\n",
       "      <td>Ализаде Джамиль Заур оглы</td>\n",
       "      <td>Общий</td>\n",
       "      <td>100822</td>\n",
       "      <td>74447</td>\n",
       "      <td>Эквилибриум</td>\n",
       "    </tr>\n",
       "    <tr>\n",
       "      <th>4</th>\n",
       "      <td>Барнаул</td>\n",
       "      <td>Соломонов Иван Геннадьевич</td>\n",
       "      <td>Вуз</td>\n",
       "      <td>63377</td>\n",
       "      <td>53086</td>\n",
       "      <td>Ноунеймы</td>\n",
       "    </tr>\n",
       "  </tbody>\n",
       "</table>\n",
       "</div>"
      ],
      "text/plain": [
       "      city                         fio  flags      id  team_id    team_name\n",
       "0    Аахен   Ализаде Джамиль Заур оглы  Общий  100822     3146        Авось\n",
       "1    Аахен   Ализаде Джамиль Заур оглы  Общий  100822    71273        Кефир\n",
       "2    Аахен   Ализаде Джамиль Заур оглы  Общий  100822    71275  С нами Лиза\n",
       "3    Аахен   Ализаде Джамиль Заур оглы  Общий  100822    74447  Эквилибриум\n",
       "4  Барнаул  Соломонов Иван Геннадьевич    Вуз   63377    53086     Ноунеймы"
      ]
     },
     "execution_count": 46,
     "metadata": {},
     "output_type": "execute_result"
    }
   ],
   "source": [
    "# Download\n",
    "teams_pd = pd.read_csv(StringIO(requests.get(teams_on_synch_url.format(tournament_id)).text), index_col=None,\n",
    "                          sep=',', error_bad_lines=False, )\n",
    "# Parse\n",
    "teams_pd = pd.DataFrame({'id': teams_pd['ID представителя'],\n",
    "                         'fio': teams_pd.iloc[:,2:5].apply(lambda x: ' '.join(x), axis=1),\n",
    "                         'team_id': teams_pd['Команда'],\n",
    "                         'team_name': teams_pd['ID команды'],\n",
    "                         'city': teams_pd['Город'],\n",
    "                         'flags': teams_pd['Флаги']})\n",
    "# Flags: Общий, Вуз, Ш\n",
    "teams_pd.loc[~teams_pd.flags.isin(['Вуз', 'Ш']), 'flags'] = 'Общий'\n",
    "teams_pd.head()"
   ]
  },
  {
   "cell_type": "code",
   "execution_count": 49,
   "metadata": {},
   "outputs": [
    {
     "data": {
      "text/html": [
       "<div>\n",
       "<style scoped>\n",
       "    .dataframe tbody tr th:only-of-type {\n",
       "        vertical-align: middle;\n",
       "    }\n",
       "\n",
       "    .dataframe tbody tr th {\n",
       "        vertical-align: top;\n",
       "    }\n",
       "\n",
       "    .dataframe thead th {\n",
       "        text-align: right;\n",
       "    }\n",
       "</style>\n",
       "<table border=\"1\" class=\"dataframe\">\n",
       "  <thead>\n",
       "    <tr style=\"text-align: right;\">\n",
       "      <th></th>\n",
       "      <th>id</th>\n",
       "      <th>flags</th>\n",
       "      <th>count</th>\n",
       "    </tr>\n",
       "  </thead>\n",
       "  <tbody>\n",
       "    <tr>\n",
       "      <th>0</th>\n",
       "      <td>3645</td>\n",
       "      <td>Вуз</td>\n",
       "      <td>2</td>\n",
       "    </tr>\n",
       "    <tr>\n",
       "      <th>1</th>\n",
       "      <td>10732</td>\n",
       "      <td>Вуз</td>\n",
       "      <td>2</td>\n",
       "    </tr>\n",
       "    <tr>\n",
       "      <th>2</th>\n",
       "      <td>10732</td>\n",
       "      <td>Ш</td>\n",
       "      <td>1</td>\n",
       "    </tr>\n",
       "    <tr>\n",
       "      <th>3</th>\n",
       "      <td>12589</td>\n",
       "      <td>Вуз</td>\n",
       "      <td>2</td>\n",
       "    </tr>\n",
       "    <tr>\n",
       "      <th>4</th>\n",
       "      <td>12589</td>\n",
       "      <td>Общий</td>\n",
       "      <td>8</td>\n",
       "    </tr>\n",
       "  </tbody>\n",
       "</table>\n",
       "</div>"
      ],
      "text/plain": [
       "      id  flags  count\n",
       "0   3645    Вуз      2\n",
       "1  10732    Вуз      2\n",
       "2  10732      Ш      1\n",
       "3  12589    Вуз      2\n",
       "4  12589  Общий      8"
      ]
     },
     "execution_count": 49,
     "metadata": {},
     "output_type": "execute_result"
    }
   ],
   "source": [
    "teams_pd_count = teams_pd.groupby(['id', 'flags']).count().iloc[:,0].reset_index().rename({'city':'count'}, axis=1)\n",
    "teams_pd_count.head()"
   ]
  },
  {
   "cell_type": "code",
   "execution_count": 70,
   "metadata": {},
   "outputs": [
    {
     "data": {
      "text/html": [
       "<div>\n",
       "<style scoped>\n",
       "    .dataframe tbody tr th:only-of-type {\n",
       "        vertical-align: middle;\n",
       "    }\n",
       "\n",
       "    .dataframe tbody tr th {\n",
       "        vertical-align: top;\n",
       "    }\n",
       "\n",
       "    .dataframe thead th {\n",
       "        text-align: right;\n",
       "    }\n",
       "</style>\n",
       "<table border=\"1\" class=\"dataframe\">\n",
       "  <thead>\n",
       "    <tr style=\"text-align: right;\">\n",
       "      <th></th>\n",
       "      <th>id</th>\n",
       "      <th>fio</th>\n",
       "      <th>city</th>\n",
       "      <th>Вуз</th>\n",
       "      <th>Общий</th>\n",
       "      <th>Ш</th>\n",
       "    </tr>\n",
       "  </thead>\n",
       "  <tbody>\n",
       "    <tr>\n",
       "      <th>0</th>\n",
       "      <td>100822</td>\n",
       "      <td>Ализаде Джамиль Заур оглы</td>\n",
       "      <td>Аахен</td>\n",
       "      <td>0</td>\n",
       "      <td>4</td>\n",
       "      <td>0</td>\n",
       "    </tr>\n",
       "    <tr>\n",
       "      <th>1</th>\n",
       "      <td>63377</td>\n",
       "      <td>Соломонов Иван Геннадьевич</td>\n",
       "      <td>Барнаул</td>\n",
       "      <td>2</td>\n",
       "      <td>1</td>\n",
       "      <td>0</td>\n",
       "    </tr>\n",
       "    <tr>\n",
       "      <th>2</th>\n",
       "      <td>16459</td>\n",
       "      <td>Кривенко Сергей Николаевич</td>\n",
       "      <td>Витебск</td>\n",
       "      <td>0</td>\n",
       "      <td>1</td>\n",
       "      <td>0</td>\n",
       "    </tr>\n",
       "    <tr>\n",
       "      <th>3</th>\n",
       "      <td>26101</td>\n",
       "      <td>Прошин Алексей Евгеньевич</td>\n",
       "      <td>Воронеж</td>\n",
       "      <td>1</td>\n",
       "      <td>1</td>\n",
       "      <td>0</td>\n",
       "    </tr>\n",
       "    <tr>\n",
       "      <th>4</th>\n",
       "      <td>40904</td>\n",
       "      <td>Шишкин Александр Александрович</td>\n",
       "      <td>Екатеринбург</td>\n",
       "      <td>4</td>\n",
       "      <td>0</td>\n",
       "      <td>0</td>\n",
       "    </tr>\n",
       "  </tbody>\n",
       "</table>\n",
       "</div>"
      ],
      "text/plain": [
       "       id                             fio          city  Вуз  Общий  Ш\n",
       "0  100822       Ализаде Джамиль Заур оглы         Аахен    0      4  0\n",
       "1   63377      Соломонов Иван Геннадьевич       Барнаул    2      1  0\n",
       "2   16459      Кривенко Сергей Николаевич       Витебск    0      1  0\n",
       "3   26101       Прошин Алексей Евгеньевич       Воронеж    1      1  0\n",
       "4   40904  Шишкин Александр Александрович  Екатеринбург    4      0  0"
      ]
     },
     "execution_count": 70,
     "metadata": {},
     "output_type": "execute_result"
    }
   ],
   "source": [
    "teams_pd_count_w = pd.pivot_table(teams_pd_count, values='count', index='id', columns='flags').fillna(0).astype(int).reset_index()\n",
    "teams_pd_count_w = teams_pd[['id', 'fio', 'city']].drop_duplicates().merge(teams_pd_count_w, on='id', how='inner')\n",
    "teams_pd_count_w.head()"
   ]
  },
  {
   "cell_type": "code",
   "execution_count": 73,
   "metadata": {},
   "outputs": [],
   "source": [
    "teams_pd_count_w.to_csv('../data/count_flags_{}.csv'.format(tournament_id), encoding='utf-8-sig')"
   ]
  },
  {
   "cell_type": "code",
   "execution_count": null,
   "metadata": {
    "collapsed": true
   },
   "outputs": [],
   "source": []
  }
 ],
 "metadata": {
  "kernelspec": {
   "display_name": "Python 3",
   "language": "python",
   "name": "python3"
  },
  "language_info": {
   "codemirror_mode": {
    "name": "ipython",
    "version": 3
   },
   "file_extension": ".py",
   "mimetype": "text/x-python",
   "name": "python",
   "nbconvert_exporter": "python",
   "pygments_lexer": "ipython3",
   "version": "3.5.5"
  }
 },
 "nbformat": 4,
 "nbformat_minor": 2
}
