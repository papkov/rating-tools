{
 "cells": [
  {
   "cell_type": "code",
   "execution_count": 1,
   "metadata": {
    "collapsed": true
   },
   "outputs": [],
   "source": [
    "import pandas as pd\n",
    "import numpy as np\n",
    "import requests\n",
    "import matplotlib.pyplot as plt"
   ]
  },
  {
   "cell_type": "code",
   "execution_count": 32,
   "metadata": {
    "collapsed": true
   },
   "outputs": [],
   "source": [
    "import seaborn as sns"
   ]
  },
  {
   "cell_type": "code",
   "execution_count": 33,
   "metadata": {
    "collapsed": true
   },
   "outputs": [],
   "source": [
    "from io import StringIO"
   ]
  },
  {
   "cell_type": "code",
   "execution_count": 11,
   "metadata": {
    "collapsed": true
   },
   "outputs": [],
   "source": [
    "from tqdm import tqdm_notebook as tqdmn"
   ]
  },
  {
   "cell_type": "code",
   "execution_count": 4,
   "metadata": {
    "collapsed": true
   },
   "outputs": [],
   "source": [
    "api_base = 'http://rating.chgk.info/api'"
   ]
  },
  {
   "cell_type": "code",
   "execution_count": 2,
   "metadata": {
    "collapsed": true
   },
   "outputs": [],
   "source": [
    "idteam = 38693"
   ]
  },
  {
   "cell_type": "markdown",
   "metadata": {},
   "source": [
    "Get base town of the team"
   ]
  },
  {
   "cell_type": "code",
   "execution_count": 5,
   "metadata": {},
   "outputs": [
    {
     "data": {
      "text/plain": [
       "'Кемерово'"
      ]
     },
     "execution_count": 5,
     "metadata": {},
     "output_type": "execute_result"
    }
   ],
   "source": [
    "town = pd.read_json(requests.get(api_base + '/teams/{idteam}'.format(idteam=idteam)).text).town[0]\n",
    "town"
   ]
  },
  {
   "cell_type": "code",
   "execution_count": 6,
   "metadata": {
    "collapsed": true
   },
   "outputs": [],
   "source": [
    "tournaments_response = requests.get(api_base + '/teams/{idteam}/tournaments'.format(idteam=idteam)).text"
   ]
  },
  {
   "cell_type": "code",
   "execution_count": 7,
   "metadata": {},
   "outputs": [
    {
     "data": {
      "text/html": [
       "<div>\n",
       "<style scoped>\n",
       "    .dataframe tbody tr th:only-of-type {\n",
       "        vertical-align: middle;\n",
       "    }\n",
       "\n",
       "    .dataframe tbody tr th {\n",
       "        vertical-align: top;\n",
       "    }\n",
       "\n",
       "    .dataframe thead th {\n",
       "        text-align: right;\n",
       "    }\n",
       "</style>\n",
       "<table border=\"1\" class=\"dataframe\">\n",
       "  <thead>\n",
       "    <tr style=\"text-align: right;\">\n",
       "      <th></th>\n",
       "      <th>idseason</th>\n",
       "      <th>idteam</th>\n",
       "      <th>tournaments</th>\n",
       "    </tr>\n",
       "  </thead>\n",
       "  <tbody>\n",
       "    <tr>\n",
       "      <th>0</th>\n",
       "      <td>16</td>\n",
       "      <td>38693</td>\n",
       "      <td>[1769, 1739]</td>\n",
       "    </tr>\n",
       "    <tr>\n",
       "      <th>1</th>\n",
       "      <td>37</td>\n",
       "      <td>38693</td>\n",
       "      <td>[2093, 2073, 2128, 1854, 1944, 1858, 1891]</td>\n",
       "    </tr>\n",
       "    <tr>\n",
       "      <th>2</th>\n",
       "      <td>44</td>\n",
       "      <td>38693</td>\n",
       "      <td>[2419, 2379, 2265, 2406, 2374, 2297, 2380, 251...</td>\n",
       "    </tr>\n",
       "    <tr>\n",
       "      <th>3</th>\n",
       "      <td>45</td>\n",
       "      <td>38693</td>\n",
       "      <td>[2856, 2873, 2776, 2791, 2790, 2889, 2909, 273...</td>\n",
       "    </tr>\n",
       "    <tr>\n",
       "      <th>4</th>\n",
       "      <td>48</td>\n",
       "      <td>38693</td>\n",
       "      <td>[3155, 3318, 3184, 3020, 3191, 3296, 2914, 289...</td>\n",
       "    </tr>\n",
       "  </tbody>\n",
       "</table>\n",
       "</div>"
      ],
      "text/plain": [
       "  idseason idteam                                        tournaments\n",
       "0       16  38693                                       [1769, 1739]\n",
       "1       37  38693         [2093, 2073, 2128, 1854, 1944, 1858, 1891]\n",
       "2       44  38693  [2419, 2379, 2265, 2406, 2374, 2297, 2380, 251...\n",
       "3       45  38693  [2856, 2873, 2776, 2791, 2790, 2889, 2909, 273...\n",
       "4       48  38693  [3155, 3318, 3184, 3020, 3191, 3296, 2914, 289..."
      ]
     },
     "execution_count": 7,
     "metadata": {},
     "output_type": "execute_result"
    }
   ],
   "source": [
    "tournaments = pd.read_json(tournaments_response).transpose().reset_index(drop=True)\n",
    "tournaments.head()"
   ]
  },
  {
   "cell_type": "code",
   "execution_count": 8,
   "metadata": {
    "collapsed": true
   },
   "outputs": [],
   "source": [
    "tournaments_list = np.concatenate(tournaments.tournaments.tolist())"
   ]
  },
  {
   "cell_type": "markdown",
   "metadata": {},
   "source": [
    "Receive tournaments results for this team"
   ]
  },
  {
   "cell_type": "code",
   "execution_count": 9,
   "metadata": {},
   "outputs": [
    {
     "data": {
      "text/plain": [
       "array(['1769', '1739', '2093', '2073', '2128', '1854', '1944', '1858',\n",
       "       '1891', '2419', '2379', '2265', '2406', '2374', '2297', '2380',\n",
       "       '2512', '2314', '2225', '2181', '2166', '2248', '2232', '2246',\n",
       "       '2147', '2077', '2155', '2165', '2164', '2185', '2180', '2856',\n",
       "       '2873', '2776', '2791', '2790', '2889', '2909', '2732', '2834',\n",
       "       '2857', '2709', '2833', '2749', '2824', '2817', '2787', '2782',\n",
       "       '2807', '2578', '2694', '2789', '2786', '2689', '2708', '2745',\n",
       "       '2696', '2727', '2585', '2707', '2662', '2660', '2659', '2632',\n",
       "       '2506', '2472', '2479', '3155', '3318', '3184', '3020', '3191',\n",
       "       '3296', '2914', '2899', '2961', '3217', '2994', '3116', '2913',\n",
       "       '3007', '2993', '2975', '3006', '2797', '2912', '3081', '2992',\n",
       "       '3032', '2911', '3004', '2904', '3003', '2881', '2942', '2896',\n",
       "       '2997', '2884', '2859', '2843', '3862', '3736', '3828', '3833',\n",
       "       '3329', '3689', '3494', '3599', '3493', '3328', '3656', '3492',\n",
       "       '3459', '3608', '3327', '3555', '3491', '3458', '3513', '3326',\n",
       "       '3490', '3405', '3435', '3451', '3391', '3489', '3325', '3450',\n",
       "       '3380', '3408', '4198', '4126', '4310', '3779', '4302', '4144',\n",
       "       '4262', '3952', '3778', '3951', '4222', '3950', '4172', '3720',\n",
       "       '3777', '4095', '3962', '3776', '4086', '3961', '3556', '4051',\n",
       "       '3775', '3849', '3906', '3532', '3750', '3889', '4961', '4883',\n",
       "       '4458', '4335', '4497', '4847', '4786', '4558', '4496', '4334',\n",
       "       '4413', '4557', '4495', '4729', '4333', '4404', '4501', '4660',\n",
       "       '4691', '4494', '4659', '4332', '4642', '4493', '4200', '4412',\n",
       "       '4331', '4554', '4492', '4471', '4480', '4309', '5345', '5248',\n",
       "       '4984', '5247', '5219', '5201', '5125', '4989', '4763'],\n",
       "      dtype='<U4')"
      ]
     },
     "execution_count": 9,
     "metadata": {},
     "output_type": "execute_result"
    }
   ],
   "source": [
    "tournaments_list"
   ]
  },
  {
   "cell_type": "code",
   "execution_count": 12,
   "metadata": {},
   "outputs": [
    {
     "data": {
      "application/vnd.jupyter.widget-view+json": {
       "model_id": "50cb41ffaa214e0382ee54b06924d042",
       "version_major": 2,
       "version_minor": 0
      },
      "text/plain": [
       "A Jupyter Widget"
      ]
     },
     "metadata": {},
     "output_type": "display_data"
    },
    {
     "name": "stdout",
     "output_type": "stream",
     "text": [
      "\n"
     ]
    }
   ],
   "source": [
    "tournaments_results = [pd.read_json(requests.get(api_base + '/tournaments/{}/list'.format(t_id)).text) for t_id in tqdmn(tournaments_list)]"
   ]
  },
  {
   "cell_type": "code",
   "execution_count": 13,
   "metadata": {},
   "outputs": [
    {
     "data": {
      "text/html": [
       "<div>\n",
       "<style scoped>\n",
       "    .dataframe tbody tr th:only-of-type {\n",
       "        vertical-align: middle;\n",
       "    }\n",
       "\n",
       "    .dataframe tbody tr th {\n",
       "        vertical-align: top;\n",
       "    }\n",
       "\n",
       "    .dataframe thead th {\n",
       "        text-align: right;\n",
       "    }\n",
       "</style>\n",
       "<table border=\"1\" class=\"dataframe\">\n",
       "  <thead>\n",
       "    <tr style=\"text-align: right;\">\n",
       "      <th></th>\n",
       "      <th>base_name</th>\n",
       "      <th>bonus_a</th>\n",
       "      <th>bonus_b</th>\n",
       "      <th>current_name</th>\n",
       "      <th>d_bonus_a</th>\n",
       "      <th>d_bonus_b</th>\n",
       "      <th>d_diff_bonus</th>\n",
       "      <th>diff_bonus</th>\n",
       "      <th>idteam</th>\n",
       "      <th>included_in_rating</th>\n",
       "      <th>mask</th>\n",
       "      <th>position</th>\n",
       "      <th>predicted_position</th>\n",
       "      <th>questions_total</th>\n",
       "      <th>tech_rating</th>\n",
       "    </tr>\n",
       "  </thead>\n",
       "  <tbody>\n",
       "    <tr>\n",
       "      <th>0</th>\n",
       "      <td>Афина</td>\n",
       "      <td>2280</td>\n",
       "      <td>1130</td>\n",
       "      <td>Афина</td>\n",
       "      <td>2280</td>\n",
       "      <td>1130</td>\n",
       "      <td>-128</td>\n",
       "      <td>-128</td>\n",
       "      <td>2</td>\n",
       "      <td>1</td>\n",
       "      <td>1.011110e+35</td>\n",
       "      <td>3.0</td>\n",
       "      <td>1.0</td>\n",
       "      <td>27</td>\n",
       "      <td>10330</td>\n",
       "    </tr>\n",
       "    <tr>\n",
       "      <th>1</th>\n",
       "      <td>Electronic wife</td>\n",
       "      <td>1655</td>\n",
       "      <td>243</td>\n",
       "      <td>Electronic wife</td>\n",
       "      <td>1655</td>\n",
       "      <td>243</td>\n",
       "      <td>-32</td>\n",
       "      <td>-32</td>\n",
       "      <td>172</td>\n",
       "      <td>1</td>\n",
       "      <td>1.110000e+33</td>\n",
       "      <td>145.0</td>\n",
       "      <td>102.0</td>\n",
       "      <td>13</td>\n",
       "      <td>1983</td>\n",
       "    </tr>\n",
       "    <tr>\n",
       "      <th>2</th>\n",
       "      <td>Гимназисты</td>\n",
       "      <td>0</td>\n",
       "      <td>727</td>\n",
       "      <td>Гимназисты</td>\n",
       "      <td>2224</td>\n",
       "      <td>727</td>\n",
       "      <td>5</td>\n",
       "      <td>5</td>\n",
       "      <td>185</td>\n",
       "      <td>1</td>\n",
       "      <td>1.011010e+35</td>\n",
       "      <td>25.0</td>\n",
       "      <td>27.0</td>\n",
       "      <td>22</td>\n",
       "      <td>3866</td>\n",
       "    </tr>\n",
       "    <tr>\n",
       "      <th>3</th>\n",
       "      <td>Десятый вал</td>\n",
       "      <td>2224</td>\n",
       "      <td>727</td>\n",
       "      <td>Десятый вал</td>\n",
       "      <td>2224</td>\n",
       "      <td>727</td>\n",
       "      <td>-40</td>\n",
       "      <td>-40</td>\n",
       "      <td>194</td>\n",
       "      <td>1</td>\n",
       "      <td>1.001001e+35</td>\n",
       "      <td>25.0</td>\n",
       "      <td>8.0</td>\n",
       "      <td>22</td>\n",
       "      <td>4871</td>\n",
       "    </tr>\n",
       "    <tr>\n",
       "      <th>4</th>\n",
       "      <td>БН</td>\n",
       "      <td>2290</td>\n",
       "      <td>1660</td>\n",
       "      <td>БН</td>\n",
       "      <td>2290</td>\n",
       "      <td>1660</td>\n",
       "      <td>435</td>\n",
       "      <td>435</td>\n",
       "      <td>205</td>\n",
       "      <td>1</td>\n",
       "      <td>1.111110e+35</td>\n",
       "      <td>1.0</td>\n",
       "      <td>11.0</td>\n",
       "      <td>29</td>\n",
       "      <td>4524</td>\n",
       "    </tr>\n",
       "  </tbody>\n",
       "</table>\n",
       "</div>"
      ],
      "text/plain": [
       "         base_name  bonus_a  bonus_b     current_name  d_bonus_a  d_bonus_b  \\\n",
       "0            Афина     2280     1130            Афина       2280       1130   \n",
       "1  Electronic wife     1655      243  Electronic wife       1655        243   \n",
       "2       Гимназисты        0      727       Гимназисты       2224        727   \n",
       "3      Десятый вал     2224      727      Десятый вал       2224        727   \n",
       "4               БН     2290     1660               БН       2290       1660   \n",
       "\n",
       "   d_diff_bonus  diff_bonus  idteam  included_in_rating          mask  \\\n",
       "0          -128        -128       2                   1  1.011110e+35   \n",
       "1           -32         -32     172                   1  1.110000e+33   \n",
       "2             5           5     185                   1  1.011010e+35   \n",
       "3           -40         -40     194                   1  1.001001e+35   \n",
       "4           435         435     205                   1  1.111110e+35   \n",
       "\n",
       "   position  predicted_position  questions_total  tech_rating  \n",
       "0       3.0                 1.0               27        10330  \n",
       "1     145.0               102.0               13         1983  \n",
       "2      25.0                27.0               22         3866  \n",
       "3      25.0                 8.0               22         4871  \n",
       "4       1.0                11.0               29         4524  "
      ]
     },
     "execution_count": 13,
     "metadata": {},
     "output_type": "execute_result"
    }
   ],
   "source": [
    "tournaments_results[46].head()"
   ]
  },
  {
   "cell_type": "code",
   "execution_count": 14,
   "metadata": {},
   "outputs": [
    {
     "data": {
      "application/vnd.jupyter.widget-view+json": {
       "model_id": "9b936d4c11c5469dbfe143754bd80049",
       "version_major": 2,
       "version_minor": 0
      },
      "text/plain": [
       "A Jupyter Widget"
      ]
     },
     "metadata": {},
     "output_type": "display_data"
    },
    {
     "name": "stdout",
     "output_type": "stream",
     "text": [
      "\n"
     ]
    }
   ],
   "source": [
    "tournaments_results_merged = pd.concat([res.loc[res.idteam == idteam, :] for res in tqdmn(tournaments_results)]).reset_index(drop=True)"
   ]
  },
  {
   "cell_type": "code",
   "execution_count": 15,
   "metadata": {},
   "outputs": [
    {
     "data": {
      "text/html": [
       "<div>\n",
       "<style scoped>\n",
       "    .dataframe tbody tr th:only-of-type {\n",
       "        vertical-align: middle;\n",
       "    }\n",
       "\n",
       "    .dataframe tbody tr th {\n",
       "        vertical-align: top;\n",
       "    }\n",
       "\n",
       "    .dataframe thead th {\n",
       "        text-align: right;\n",
       "    }\n",
       "</style>\n",
       "<table border=\"1\" class=\"dataframe\">\n",
       "  <thead>\n",
       "    <tr style=\"text-align: right;\">\n",
       "      <th></th>\n",
       "      <th>base_name</th>\n",
       "      <th>bonus_a</th>\n",
       "      <th>bonus_b</th>\n",
       "      <th>current_name</th>\n",
       "      <th>d_bonus_a</th>\n",
       "      <th>d_bonus_b</th>\n",
       "      <th>d_diff_bonus</th>\n",
       "      <th>diff_bonus</th>\n",
       "      <th>idteam</th>\n",
       "      <th>included_in_rating</th>\n",
       "      <th>mask</th>\n",
       "      <th>position</th>\n",
       "      <th>predicted_position</th>\n",
       "      <th>questions_total</th>\n",
       "      <th>tech_rating</th>\n",
       "      <th>tournament_id</th>\n",
       "    </tr>\n",
       "  </thead>\n",
       "  <tbody>\n",
       "    <tr>\n",
       "      <th>0</th>\n",
       "      <td>Аркашина каша</td>\n",
       "      <td>14</td>\n",
       "      <td>15</td>\n",
       "      <td>Аркашина каша</td>\n",
       "      <td>14</td>\n",
       "      <td>15</td>\n",
       "      <td>15</td>\n",
       "      <td>15</td>\n",
       "      <td>38693</td>\n",
       "      <td>1</td>\n",
       "      <td>1.011e+59</td>\n",
       "      <td>9.0</td>\n",
       "      <td>23</td>\n",
       "      <td>20</td>\n",
       "      <td>1</td>\n",
       "      <td>1769</td>\n",
       "    </tr>\n",
       "    <tr>\n",
       "      <th>1</th>\n",
       "      <td>Аркашина каша</td>\n",
       "      <td>0</td>\n",
       "      <td>1</td>\n",
       "      <td>Аркашина каша</td>\n",
       "      <td>0</td>\n",
       "      <td>1</td>\n",
       "      <td>1</td>\n",
       "      <td>1</td>\n",
       "      <td>38693</td>\n",
       "      <td>1</td>\n",
       "      <td>0</td>\n",
       "      <td>21.0</td>\n",
       "      <td>56.5</td>\n",
       "      <td>0</td>\n",
       "      <td>0</td>\n",
       "      <td>1739</td>\n",
       "    </tr>\n",
       "    <tr>\n",
       "      <th>2</th>\n",
       "      <td>Аркашина каша</td>\n",
       "      <td>405</td>\n",
       "      <td>111</td>\n",
       "      <td>Аркашина каша</td>\n",
       "      <td>405</td>\n",
       "      <td>111</td>\n",
       "      <td>86</td>\n",
       "      <td>86</td>\n",
       "      <td>38693</td>\n",
       "      <td>1</td>\n",
       "      <td>1.1111e+59</td>\n",
       "      <td>10.5</td>\n",
       "      <td>18</td>\n",
       "      <td>27</td>\n",
       "      <td>149</td>\n",
       "      <td>2093</td>\n",
       "    </tr>\n",
       "    <tr>\n",
       "      <th>3</th>\n",
       "      <td>Аркашина каша</td>\n",
       "      <td>195</td>\n",
       "      <td>63</td>\n",
       "      <td>Аркашина каша</td>\n",
       "      <td>195</td>\n",
       "      <td>63</td>\n",
       "      <td>34</td>\n",
       "      <td>34</td>\n",
       "      <td>38693</td>\n",
       "      <td>1</td>\n",
       "      <td>1.1011e+40</td>\n",
       "      <td>15.0</td>\n",
       "      <td>17</td>\n",
       "      <td>15</td>\n",
       "      <td>183</td>\n",
       "      <td>2073</td>\n",
       "    </tr>\n",
       "    <tr>\n",
       "      <th>4</th>\n",
       "      <td>Аркашина каша</td>\n",
       "      <td>387</td>\n",
       "      <td>103</td>\n",
       "      <td>Аркашина каша</td>\n",
       "      <td>387</td>\n",
       "      <td>103</td>\n",
       "      <td>46</td>\n",
       "      <td>46</td>\n",
       "      <td>38693</td>\n",
       "      <td>1</td>\n",
       "      <td>1.0001e+142</td>\n",
       "      <td>16.0</td>\n",
       "      <td>44</td>\n",
       "      <td>62</td>\n",
       "      <td>65</td>\n",
       "      <td>2128</td>\n",
       "    </tr>\n",
       "  </tbody>\n",
       "</table>\n",
       "</div>"
      ],
      "text/plain": [
       "       base_name bonus_a  bonus_b   current_name  d_bonus_a  d_bonus_b  \\\n",
       "0  Аркашина каша      14       15  Аркашина каша         14         15   \n",
       "1  Аркашина каша       0        1  Аркашина каша          0          1   \n",
       "2  Аркашина каша     405      111  Аркашина каша        405        111   \n",
       "3  Аркашина каша     195       63  Аркашина каша        195         63   \n",
       "4  Аркашина каша     387      103  Аркашина каша        387        103   \n",
       "\n",
       "  d_diff_bonus diff_bonus  idteam  included_in_rating         mask  position  \\\n",
       "0           15         15   38693                   1    1.011e+59       9.0   \n",
       "1            1          1   38693                   1            0      21.0   \n",
       "2           86         86   38693                   1   1.1111e+59      10.5   \n",
       "3           34         34   38693                   1   1.1011e+40      15.0   \n",
       "4           46         46   38693                   1  1.0001e+142      16.0   \n",
       "\n",
       "  predicted_position  questions_total tech_rating tournament_id  \n",
       "0                 23               20           1          1769  \n",
       "1               56.5                0           0          1739  \n",
       "2                 18               27         149          2093  \n",
       "3                 17               15         183          2073  \n",
       "4                 44               62          65          2128  "
      ]
     },
     "execution_count": 15,
     "metadata": {},
     "output_type": "execute_result"
    }
   ],
   "source": [
    "tournaments_results_merged['tournament_id'] = tournaments_list\n",
    "tournaments_results_merged.head()"
   ]
  },
  {
   "cell_type": "markdown",
   "metadata": {},
   "source": [
    "Get info for places (no API for that, need to download temp)"
   ]
  },
  {
   "cell_type": "code",
   "execution_count": 17,
   "metadata": {
    "collapsed": true
   },
   "outputs": [],
   "source": [
    "representatives_request = 'http://rating.chgk.info/synch.php?download_data=requests_download&tournament_id={}'"
   ]
  },
  {
   "cell_type": "code",
   "execution_count": 22,
   "metadata": {},
   "outputs": [
    {
     "name": "stdout",
     "output_type": "stream",
     "text": [
      "Wall time: 25.6 s\n"
     ]
    }
   ],
   "source": [
    "%%time\n",
    "representatives = pd.concat(\n",
    "    tournaments_results_merged.tournament_id.apply(\n",
    "        lambda x: pd.read_table(\n",
    "            StringIO(\n",
    "                requests.get(representatives_request.format(x)).text),\n",
    "            sep=';').loc[lambda df: df['Город'] == town].assign(tournament_id=x)\n",
    "    ).tolist()\n",
    ").reset_index(drop=True)\n",
    "\n",
    "representatives.columns = ['town', 'representative', 'narrator', 'status', 'n_teams', 'tournament_id']\n",
    "representatives['actual_teams'] = representatives['n_teams'].apply(lambda x: int(x.split(' / ')[0]))"
   ]
  },
  {
   "cell_type": "code",
   "execution_count": 23,
   "metadata": {},
   "outputs": [
    {
     "data": {
      "text/html": [
       "<div>\n",
       "<style scoped>\n",
       "    .dataframe tbody tr th:only-of-type {\n",
       "        vertical-align: middle;\n",
       "    }\n",
       "\n",
       "    .dataframe tbody tr th {\n",
       "        vertical-align: top;\n",
       "    }\n",
       "\n",
       "    .dataframe thead th {\n",
       "        text-align: right;\n",
       "    }\n",
       "</style>\n",
       "<table border=\"1\" class=\"dataframe\">\n",
       "  <thead>\n",
       "    <tr style=\"text-align: right;\">\n",
       "      <th></th>\n",
       "      <th>town</th>\n",
       "      <th>representative</th>\n",
       "      <th>narrator</th>\n",
       "      <th>status</th>\n",
       "      <th>n_teams</th>\n",
       "      <th>tournament_id</th>\n",
       "      <th>actual_teams</th>\n",
       "    </tr>\n",
       "  </thead>\n",
       "  <tbody>\n",
       "    <tr>\n",
       "      <th>0</th>\n",
       "      <td>Кемерово</td>\n",
       "      <td>Кравцова Ирина Вячеславовна</td>\n",
       "      <td>Кравцова Ирина Вячеславовна</td>\n",
       "      <td>Принята</td>\n",
       "      <td>1 /</td>\n",
       "      <td>2419</td>\n",
       "      <td>1</td>\n",
       "    </tr>\n",
       "    <tr>\n",
       "      <th>1</th>\n",
       "      <td>Кемерово</td>\n",
       "      <td>Кравцова Ирина Вячеславовна</td>\n",
       "      <td>Кравцова Ирина Вячеславовна</td>\n",
       "      <td>Принята</td>\n",
       "      <td>1 /</td>\n",
       "      <td>2379</td>\n",
       "      <td>1</td>\n",
       "    </tr>\n",
       "    <tr>\n",
       "      <th>2</th>\n",
       "      <td>Кемерово</td>\n",
       "      <td>Юрлов Степан Сергеевич</td>\n",
       "      <td>Рыкова Юлия Владимировна</td>\n",
       "      <td>Принята</td>\n",
       "      <td>1 /</td>\n",
       "      <td>2265</td>\n",
       "      <td>1</td>\n",
       "    </tr>\n",
       "    <tr>\n",
       "      <th>3</th>\n",
       "      <td>Кемерово</td>\n",
       "      <td>Кравцова Ирина Вячеславовна</td>\n",
       "      <td>Драчёв Максим Вячеславович</td>\n",
       "      <td>Принята</td>\n",
       "      <td>0 /</td>\n",
       "      <td>2297</td>\n",
       "      <td>0</td>\n",
       "    </tr>\n",
       "    <tr>\n",
       "      <th>4</th>\n",
       "      <td>Кемерово</td>\n",
       "      <td>Кравцова Ирина Вячеславовна</td>\n",
       "      <td>Кравцова Ирина Вячеславовна</td>\n",
       "      <td>Принята</td>\n",
       "      <td>1 /</td>\n",
       "      <td>2314</td>\n",
       "      <td>1</td>\n",
       "    </tr>\n",
       "  </tbody>\n",
       "</table>\n",
       "</div>"
      ],
      "text/plain": [
       "       town               representative                     narrator  \\\n",
       "0  Кемерово  Кравцова Ирина Вячеславовна  Кравцова Ирина Вячеславовна   \n",
       "1  Кемерово  Кравцова Ирина Вячеславовна  Кравцова Ирина Вячеславовна   \n",
       "2  Кемерово       Юрлов Степан Сергеевич     Рыкова Юлия Владимировна   \n",
       "3  Кемерово  Кравцова Ирина Вячеславовна   Драчёв Максим Вячеславович   \n",
       "4  Кемерово  Кравцова Ирина Вячеславовна  Кравцова Ирина Вячеславовна   \n",
       "\n",
       "    status n_teams tournament_id  actual_teams  \n",
       "0  Принята    1 /           2419             1  \n",
       "1  Принята    1 /           2379             1  \n",
       "2  Принята    1 /           2265             1  \n",
       "3  Принята    0 /           2297             0  \n",
       "4  Принята    1 /           2314             1  "
      ]
     },
     "execution_count": 23,
     "metadata": {},
     "output_type": "execute_result"
    }
   ],
   "source": [
    "representatives.head()"
   ]
  },
  {
   "cell_type": "markdown",
   "metadata": {},
   "source": [
    "We encount only in-town games here, thus inner join"
   ]
  },
  {
   "cell_type": "code",
   "execution_count": 24,
   "metadata": {
    "collapsed": true
   },
   "outputs": [],
   "source": [
    "tournaments_with_representatives = pd.merge(tournaments_results_merged, representatives, on='tournament_id', how='inner')"
   ]
  },
  {
   "cell_type": "code",
   "execution_count": 25,
   "metadata": {},
   "outputs": [
    {
     "data": {
      "text/html": [
       "<div>\n",
       "<style scoped>\n",
       "    .dataframe tbody tr th:only-of-type {\n",
       "        vertical-align: middle;\n",
       "    }\n",
       "\n",
       "    .dataframe tbody tr th {\n",
       "        vertical-align: top;\n",
       "    }\n",
       "\n",
       "    .dataframe thead th {\n",
       "        text-align: right;\n",
       "    }\n",
       "</style>\n",
       "<table border=\"1\" class=\"dataframe\">\n",
       "  <thead>\n",
       "    <tr style=\"text-align: right;\">\n",
       "      <th></th>\n",
       "      <th>base_name</th>\n",
       "      <th>bonus_a</th>\n",
       "      <th>bonus_b</th>\n",
       "      <th>current_name</th>\n",
       "      <th>d_bonus_a</th>\n",
       "      <th>d_bonus_b</th>\n",
       "      <th>d_diff_bonus</th>\n",
       "      <th>diff_bonus</th>\n",
       "      <th>idteam</th>\n",
       "      <th>included_in_rating</th>\n",
       "      <th>...</th>\n",
       "      <th>predicted_position</th>\n",
       "      <th>questions_total</th>\n",
       "      <th>tech_rating</th>\n",
       "      <th>tournament_id</th>\n",
       "      <th>town</th>\n",
       "      <th>representative</th>\n",
       "      <th>narrator</th>\n",
       "      <th>status</th>\n",
       "      <th>n_teams</th>\n",
       "      <th>actual_teams</th>\n",
       "    </tr>\n",
       "  </thead>\n",
       "  <tbody>\n",
       "    <tr>\n",
       "      <th>0</th>\n",
       "      <td>Аркашина каша</td>\n",
       "      <td>1420</td>\n",
       "      <td>231</td>\n",
       "      <td>Аркашина каша</td>\n",
       "      <td>1420</td>\n",
       "      <td>231</td>\n",
       "      <td>11</td>\n",
       "      <td>11</td>\n",
       "      <td>38693</td>\n",
       "      <td>1</td>\n",
       "      <td>...</td>\n",
       "      <td>86</td>\n",
       "      <td>11</td>\n",
       "      <td>1088</td>\n",
       "      <td>2419</td>\n",
       "      <td>Кемерово</td>\n",
       "      <td>Кравцова Ирина Вячеславовна</td>\n",
       "      <td>Кравцова Ирина Вячеславовна</td>\n",
       "      <td>Принята</td>\n",
       "      <td>1 /</td>\n",
       "      <td>1</td>\n",
       "    </tr>\n",
       "    <tr>\n",
       "      <th>1</th>\n",
       "      <td>Аркашина каша</td>\n",
       "      <td>1977</td>\n",
       "      <td>510</td>\n",
       "      <td>Аркашина каша</td>\n",
       "      <td>1977</td>\n",
       "      <td>510</td>\n",
       "      <td>150</td>\n",
       "      <td>150</td>\n",
       "      <td>38693</td>\n",
       "      <td>1</td>\n",
       "      <td>...</td>\n",
       "      <td>124</td>\n",
       "      <td>19</td>\n",
       "      <td>1088</td>\n",
       "      <td>2379</td>\n",
       "      <td>Кемерово</td>\n",
       "      <td>Кравцова Ирина Вячеславовна</td>\n",
       "      <td>Кравцова Ирина Вячеславовна</td>\n",
       "      <td>Принята</td>\n",
       "      <td>1 /</td>\n",
       "      <td>1</td>\n",
       "    </tr>\n",
       "    <tr>\n",
       "      <th>2</th>\n",
       "      <td>Аркашина каша</td>\n",
       "      <td>1965</td>\n",
       "      <td>517</td>\n",
       "      <td>Аркашина каша</td>\n",
       "      <td>1965</td>\n",
       "      <td>517</td>\n",
       "      <td>162</td>\n",
       "      <td>162</td>\n",
       "      <td>38693</td>\n",
       "      <td>1</td>\n",
       "      <td>...</td>\n",
       "      <td>108.5</td>\n",
       "      <td>12</td>\n",
       "      <td>984</td>\n",
       "      <td>2265</td>\n",
       "      <td>Кемерово</td>\n",
       "      <td>Юрлов Степан Сергеевич</td>\n",
       "      <td>Рыкова Юлия Владимировна</td>\n",
       "      <td>Принята</td>\n",
       "      <td>1 /</td>\n",
       "      <td>1</td>\n",
       "    </tr>\n",
       "    <tr>\n",
       "      <th>3</th>\n",
       "      <td>Аркашина каша</td>\n",
       "      <td>837</td>\n",
       "      <td>177</td>\n",
       "      <td>Аркашина каша</td>\n",
       "      <td>837</td>\n",
       "      <td>177</td>\n",
       "      <td>16</td>\n",
       "      <td>16</td>\n",
       "      <td>38693</td>\n",
       "      <td>1</td>\n",
       "      <td>...</td>\n",
       "      <td>122</td>\n",
       "      <td>16</td>\n",
       "      <td>755</td>\n",
       "      <td>2297</td>\n",
       "      <td>Кемерово</td>\n",
       "      <td>Кравцова Ирина Вячеславовна</td>\n",
       "      <td>Драчёв Максим Вячеславович</td>\n",
       "      <td>Принята</td>\n",
       "      <td>0 /</td>\n",
       "      <td>0</td>\n",
       "    </tr>\n",
       "    <tr>\n",
       "      <th>4</th>\n",
       "      <td>Аркашина каша</td>\n",
       "      <td>953</td>\n",
       "      <td>165</td>\n",
       "      <td>Аркашина каша</td>\n",
       "      <td>953</td>\n",
       "      <td>165</td>\n",
       "      <td>27</td>\n",
       "      <td>27</td>\n",
       "      <td>38693</td>\n",
       "      <td>1</td>\n",
       "      <td>...</td>\n",
       "      <td>276</td>\n",
       "      <td>12</td>\n",
       "      <td>574</td>\n",
       "      <td>2314</td>\n",
       "      <td>Кемерово</td>\n",
       "      <td>Кравцова Ирина Вячеславовна</td>\n",
       "      <td>Кравцова Ирина Вячеславовна</td>\n",
       "      <td>Принята</td>\n",
       "      <td>1 /</td>\n",
       "      <td>1</td>\n",
       "    </tr>\n",
       "  </tbody>\n",
       "</table>\n",
       "<p>5 rows × 22 columns</p>\n",
       "</div>"
      ],
      "text/plain": [
       "       base_name bonus_a  bonus_b   current_name  d_bonus_a  d_bonus_b  \\\n",
       "0  Аркашина каша    1420      231  Аркашина каша       1420        231   \n",
       "1  Аркашина каша    1977      510  Аркашина каша       1977        510   \n",
       "2  Аркашина каша    1965      517  Аркашина каша       1965        517   \n",
       "3  Аркашина каша     837      177  Аркашина каша        837        177   \n",
       "4  Аркашина каша     953      165  Аркашина каша        953        165   \n",
       "\n",
       "  d_diff_bonus diff_bonus  idteam  included_in_rating     ...       \\\n",
       "0           11         11   38693                   1     ...        \n",
       "1          150        150   38693                   1     ...        \n",
       "2          162        162   38693                   1     ...        \n",
       "3           16         16   38693                   1     ...        \n",
       "4           27         27   38693                   1     ...        \n",
       "\n",
       "  predicted_position  questions_total tech_rating  tournament_id      town  \\\n",
       "0                 86               11        1088           2419  Кемерово   \n",
       "1                124               19        1088           2379  Кемерово   \n",
       "2              108.5               12         984           2265  Кемерово   \n",
       "3                122               16         755           2297  Кемерово   \n",
       "4                276               12         574           2314  Кемерово   \n",
       "\n",
       "                representative                     narrator   status n_teams  \\\n",
       "0  Кравцова Ирина Вячеславовна  Кравцова Ирина Вячеславовна  Принята    1 /    \n",
       "1  Кравцова Ирина Вячеславовна  Кравцова Ирина Вячеславовна  Принята    1 /    \n",
       "2       Юрлов Степан Сергеевич     Рыкова Юлия Владимировна  Принята    1 /    \n",
       "3  Кравцова Ирина Вячеславовна   Драчёв Максим Вячеславович  Принята    0 /    \n",
       "4  Кравцова Ирина Вячеславовна  Кравцова Ирина Вячеславовна  Принята    1 /    \n",
       "\n",
       "  actual_teams  \n",
       "0            1  \n",
       "1            1  \n",
       "2            1  \n",
       "3            0  \n",
       "4            1  \n",
       "\n",
       "[5 rows x 22 columns]"
      ]
     },
     "execution_count": 25,
     "metadata": {},
     "output_type": "execute_result"
    }
   ],
   "source": [
    "tournaments_with_representatives.head()"
   ]
  },
  {
   "cell_type": "code",
   "execution_count": 26,
   "metadata": {},
   "outputs": [
    {
     "data": {
      "text/plain": [
       "Index(['base_name', 'bonus_a', 'bonus_b', 'current_name', 'd_bonus_a',\n",
       "       'd_bonus_b', 'd_diff_bonus', 'diff_bonus', 'idteam',\n",
       "       'included_in_rating', 'mask', 'position', 'predicted_position',\n",
       "       'questions_total', 'tech_rating', 'tournament_id', 'town',\n",
       "       'representative', 'narrator', 'status', 'n_teams', 'actual_teams'],\n",
       "      dtype='object')"
      ]
     },
     "execution_count": 26,
     "metadata": {},
     "output_type": "execute_result"
    }
   ],
   "source": [
    "tournaments_with_representatives.columns"
   ]
  },
  {
   "cell_type": "code",
   "execution_count": 28,
   "metadata": {},
   "outputs": [
    {
     "data": {
      "image/png": "[encoded data removed]",
      "text/plain": [
       "<matplotlib.figure.Figure at 0x19d6e9c7e48>"
      ]
     },
     "metadata": {},
     "output_type": "display_data"
    }
   ],
   "source": [
    "fig, ax = plt.subplots(ncols=2, figsize=(15, 10))\n",
    "representatives_counts = np.unique(tournaments_with_representatives.representative, return_counts=True)\n",
    "ax[0].bar(np.arange(len(representatives_counts[0])), representatives_counts[1])\n",
    "ax[0].set_xticklabels(['']+list(representatives_counts[0]), rotation=90)\n",
    "\n",
    "tournaments_with_representatives.actual_teams.hist(ax=ax[1], grid=False)\n",
    "ax[1].set_title('N teams in town')\n",
    "\n",
    "plt.tight_layout()\n",
    "plt.show()"
   ]
  },
  {
   "cell_type": "code",
   "execution_count": 29,
   "metadata": {
    "collapsed": true
   },
   "outputs": [],
   "source": [
    "tournaments_with_representatives['mono'] = (tournaments_with_representatives.actual_teams == 1)"
   ]
  },
  {
   "cell_type": "code",
   "execution_count": 30,
   "metadata": {
    "collapsed": true
   },
   "outputs": [],
   "source": [
    "tournaments_with_representatives['diff_bonus'] = np.array(tournaments_with_representatives['diff_bonus'], dtype=np.int64)"
   ]
  },
  {
   "cell_type": "code",
   "execution_count": 35,
   "metadata": {
    "collapsed": true
   },
   "outputs": [],
   "source": [
    "labels = list(map(lambda x: x.get_text(), g.get_yticklabels()))"
   ]
  },
  {
   "cell_type": "code",
   "execution_count": 36,
   "metadata": {},
   "outputs": [
    {
     "data": {
      "image/png": "[encoded data removed]",
      "text/plain": [
       "<matplotlib.figure.Figure at 0x19d74d7d978>"
      ]
     },
     "metadata": {},
     "output_type": "display_data"
    }
   ],
   "source": [
    "n_last_games = len(tournaments_with_representatives)\n",
    "fig, ax = plt.subplots(ncols=2, figsize=(15, 7), sharey=True)\n",
    "sns.boxplot(data=tournaments_with_representatives.tail(n_last_games), y='representative', x='diff_bonus', hue='mono', ax=ax[0])\n",
    "sns.countplot(data=tournaments_with_representatives.tail(n_last_games), y='representative', hue='mono', ax=ax[1])\n",
    "\n",
    "ax[1].set_xlabel('Количество проведенных игр')\n",
    "ax[1].set_ylabel('')\n",
    "\n",
    "# plt.suptitle('Бонус / представитель за все время')\n",
    "plt.show()"
   ]
  },
  {
   "cell_type": "code",
   "execution_count": 37,
   "metadata": {},
   "outputs": [
    {
     "data": {
      "image/png": "[encoded data removed]",
      "text/plain": [
       "<matplotlib.figure.Figure at 0x19d71500e10>"
      ]
     },
     "metadata": {},
     "output_type": "display_data"
    }
   ],
   "source": [
    "n_last_games = 39\n",
    "fig, ax = plt.subplots(ncols=2, figsize=(15, 7), sharey=True)\n",
    "sns.boxplot(data=tournaments_with_representatives.tail(n_last_games), y='representative', x='diff_bonus', hue='mono', ax=ax[0])\n",
    "sns.countplot(data=tournaments_with_representatives.tail(n_last_games), y='representative', hue='mono', ax=ax[1])\n",
    "\n",
    "ax[1].set_xlabel('Количество проведенных игр')\n",
    "ax[1].set_ylabel('')\n",
    "\n",
    "# plt.suptitle('Бонус / представитель за последние 2 сезона')\n",
    "plt.show()"
   ]
  },
  {
   "cell_type": "code",
   "execution_count": 38,
   "metadata": {},
   "outputs": [
    {
     "data": {
      "image/png": "[encoded data removed]",
      "text/plain": [
       "<matplotlib.figure.Figure at 0x19d74fb07f0>"
      ]
     },
     "metadata": {},
     "output_type": "display_data"
    }
   ],
   "source": [
    "bins = np.arange(min(tournaments_with_representatives.diff_bonus), max(tournaments_with_representatives.diff_bonus), 20)\n",
    "fig, ax = plt.subplots(nrows=3, figsize=(10, 15), sharex=True)\n",
    "sns.distplot(tournaments_with_representatives.diff_bonus, bins=bins, ax=ax[0])\n",
    "sns.distplot(tournaments_with_representatives.loc[tournaments_with_representatives.representative != 'Драчёв Максим Вячеславович',:].diff_bonus, bins=bins, ax=ax[1])\n",
    "sns.distplot(tournaments_with_representatives.loc[tournaments_with_representatives.representative == 'Драчёв Максим Вячеславович',:].diff_bonus, bins=bins, ax=ax[2])\n",
    "plt.show()"
   ]
  },
  {
   "cell_type": "code",
   "execution_count": 39,
   "metadata": {},
   "outputs": [
    {
     "data": {
      "image/png": "[encoded data removed]",
      "text/plain": [
       "<matplotlib.figure.Figure at 0x19d753ef6d8>"
      ]
     },
     "metadata": {},
     "output_type": "display_data"
    }
   ],
   "source": [
    "bins = np.arange(min(tournaments_with_representatives.diff_bonus), max(tournaments_with_representatives.diff_bonus), 30)\n",
    "fig, ax = plt.subplots(nrows=3, figsize=(10, 15), sharex=True)\n",
    "\n",
    "sns.distplot(tournaments_with_representatives.diff_bonus, bins=bins, ax=ax[0])\n",
    "sns.distplot(tournaments_with_representatives.loc[tournaments_with_representatives.mono != True,:].diff_bonus, bins=bins, ax=ax[1])\n",
    "sns.distplot(tournaments_with_representatives.loc[tournaments_with_representatives.mono == True,:].diff_bonus, bins=bins, ax=ax[2])\n",
    "plt.show()"
   ]
  },
  {
   "cell_type": "code",
   "execution_count": null,
   "metadata": {
    "collapsed": true
   },
   "outputs": [],
   "source": []
  }
 ],
 "metadata": {
  "kernelspec": {
   "display_name": "Python (base)",
   "language": "python",
   "name": "base"
  },
  "language_info": {
   "codemirror_mode": {
    "name": "ipython",
    "version": 3
   },
   "file_extension": ".py",
   "mimetype": "text/x-python",
   "name": "python",
   "nbconvert_exporter": "python",
   "pygments_lexer": "ipython3",
   "version": "3.5.4"
  }
 },
 "nbformat": 4,
 "nbformat_minor": 2
}
